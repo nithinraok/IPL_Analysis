{
 "cells": [
  {
   "cell_type": "code",
   "execution_count": null,
   "metadata": {},
   "outputs": [],
   "source": [
    "bussiness_ids = np.array(range(1,1701))\n",
    "\n",
    "newIds = bussiness_ids.reshape(10,170)\n",
    "\n",
    "newIds\n",
    "\n",
    "np.random.seed(100)\n",
    "for i in range(0,10):\n",
    "    print(np.random.choice(newIds[i,:],5))\n",
    "\n",
    "import pandas as pd\n",
    "\n",
    "df = pd.read_csv('../Others/iris.csv')\n",
    "\n",
    "df.head()\n",
    "\n",
    "np.unique(df.species)\n",
    "\n",
    "df.species[0]\n",
    "\n",
    "df.describe()\n",
    "\n",
    "df['petal_area']=df.sepal_length*df.sepal_width;\n",
    "\n",
    "df.head()\n",
    "\n",
    "species_mask = df.species.isin(['versicolor','virginica'])\n",
    "\n",
    "sepal_mask=df.sepal_width>3.2\n",
    "\n",
    "df[sepal_mask & species_mask]\n",
    "\n",
    "df.groupby('species').agg(['mean','max'])\n",
    "\n",
    "df\n",
    "\n",
    "df.info()\n",
    "\n",
    "df.iloc[0,5]\n",
    "\n",
    "df.head()\n",
    "\n"
   ]
  },
  {
   "cell_type": "markdown",
   "metadata": {},
   "source": [
    "# Learn Pandas Dtd : 14 April"
   ]
  },
  {
   "cell_type": "code",
   "execution_count": null,
   "metadata": {},
   "outputs": [],
   "source": [
    "import numpy as np\n",
    "import pandas as pd\n",
    "import pickle as pkl\n",
    "\n",
    "firstSeries = pd.Series(np.random.randint(0,high=10,size=(7)),index=['a','b','c','d','e','f','g'])\n",
    "\n",
    "firstSeries\n",
    "\n",
    "firstSeries.index\n",
    "\n",
    "tmpDict = {'a' : 'A','b':1,'c':2}\n",
    "\n",
    "sndSeries = pd.Series(tmpDict)\n",
    "\n",
    "sndSeries\n",
    "\n",
    "sndSeries['a']\n",
    "\n",
    "sndSeries=pd.Series(np.random.randint(4),index=['b','c','e','a'])\n",
    "\n",
    "sndSeries['a']=3\n",
    "\n",
    "np.exp(sndSeries)\n",
    "\n",
    "sndSeries\n",
    "\n",
    "batsmenRuns = pkl.load(open('../ipl/batsmenBowlerRuns.pickle','rb'))\n",
    "\n",
    "type(batsmenRuns)\n",
    "\n",
    "tmpDfFrame = pd.DataFrame(batsmenRuns).T\n",
    "\n",
    "tmpDfFrame.columns\n",
    "\n",
    "deliveries = pd.read_csv('../ipl/deliveries.csv')\n",
    "\n",
    "tmpDfFrame.columns=deliveries.bowler.unique()\n",
    "\n",
    "tmpDfFrame.head()\n",
    "\n",
    "tmpDfFrame[tmpDfFrame['B Kumar'].values == 'RunsScored']\n",
    "\n",
    "tmpDfFrame=tmpDfFrame.T\n",
    "\n",
    "tmpDfFrame.pop('Batsmen')\n",
    "\n",
    "tmpDfFrame=tmpDfFrame.T;\n",
    "\n",
    "tmpDfFrame[tmpDfFrame['B Kumar'].values>=50]['B Kumar'].sort_values(ascending=False)\n",
    "\n",
    "tmpDfFrame[tmpDfFrame.iloc[4].values>10]\n",
    "\n",
    "tmpDfFrame[:1]"
   ]
  },
  {
   "cell_type": "markdown",
   "metadata": {},
   "source": [
    "# MATPLOTLIB PLOTTING"
   ]
  },
  {
   "cell_type": "code",
   "execution_count": 1,
   "metadata": {},
   "outputs": [],
   "source": [
    "%matplotlib inline\n",
    "import pandas as pd\n",
    "import numpy as np\n",
    "import matplotlib.pyplot as plt\n",
    "plt.style.use('ggplot')"
   ]
  },
  {
   "cell_type": "code",
   "execution_count": 11,
   "metadata": {
    "scrolled": true
   },
   "outputs": [
    {
     "data": {
      "text/plain": [
       "<matplotlib.figure.Figure at 0x114c74ef0>"
      ]
     },
     "metadata": {},
     "output_type": "display_data"
    }
   ],
   "source": [
    "figure = plt.figure('Learn Plotting');"
   ]
  },
  {
   "cell_type": "code",
   "execution_count": 12,
   "metadata": {},
   "outputs": [
    {
     "data": {
      "text/plain": [
       "<matplotlib.axes._subplots.AxesSubplot at 0x114c16748>"
      ]
     },
     "execution_count": 12,
     "metadata": {},
     "output_type": "execute_result"
    }
   ],
   "source": [
    "figure.add_subplot(2,1,1)"
   ]
  },
  {
   "cell_type": "code",
   "execution_count": 10,
   "metadata": {},
   "outputs": [],
   "source": [
    "plt.show()"
   ]
  },
  {
   "cell_type": "code",
   "execution_count": 14,
   "metadata": {},
   "outputs": [],
   "source": [
    "deliveries = pd.read_csv('../ipl/deliveries.csv')"
   ]
  },
  {
   "cell_type": "code",
   "execution_count": 205,
   "metadata": {},
   "outputs": [],
   "source": [
    "TopBatsman=pd.DataFrame(index=np.arange(1,len(deliveries.match_id.unique())+1))\n",
    "TopBatsman.index.names=['match_id']\n",
    "\n",
    "TopPlayers=['SK Raina','V Kohli','RG Sharma','DA Warner','AB de Villiers']\n",
    "\n",
    "for player in TopPlayers:\n",
    "    player=player\n",
    "    tmpBat=deliveries[deliveries.batsman==player][['match_id','batsman_runs']];\n",
    "\n",
    "    tmpBat.index=tmpBat.match_id;\n",
    "    tmpBat.pop('match_id')\n",
    "    tmpBat.columns=[player];\n",
    "    matchRuns=tmpBat.groupby('match_id').sum().values;\n",
    "    #aa=tmpBat.groupby('match_id').sum().sort_values(by=player,ascending=False);\n",
    "    TopBatsman[player]=tmpBat.groupby('match_id').sum();\n",
    "    \n",
    "    \n",
    "\n",
    "plotSum=TopBatsman;\n",
    "\n",
    "plotSum = TopBatsman.fillna(0);\n",
    "\n",
    "matches=pd.read_csv('../ipl/matches.csv')\n",
    "\n",
    "plotSum['season']=matches.season.values;\n",
    "\n",
    "plotSum.set_index('season',inplace=True)\n",
    "\n",
    "plotSum.cumsum().plot()"
   ]
  },
  {
   "cell_type": "code",
   "execution_count": null,
   "metadata": {},
   "outputs": [],
   "source": []
  }
 ],
 "metadata": {
  "kernelspec": {
   "display_name": "Python 3",
   "language": "python",
   "name": "python3"
  },
  "language_info": {
   "codemirror_mode": {
    "name": "ipython",
    "version": 3
   },
   "file_extension": ".py",
   "mimetype": "text/x-python",
   "name": "python",
   "nbconvert_exporter": "python",
   "pygments_lexer": "ipython3",
   "version": "3.6.3"
  }
 },
 "nbformat": 4,
 "nbformat_minor": 2
}
